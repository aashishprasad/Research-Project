{
 "cells": [
  {
   "cell_type": "code",
   "execution_count": 3,
   "metadata": {},
   "outputs": [],
   "source": [
    "import pandas as pd\n",
    "import nltk\n",
    "from bs4 import BeautifulSoup\n",
    "import string\n",
    "from nltk.corpus import stopwords\n",
    "from nltk.tokenize import RegexpTokenizer\n",
    "from nltk.stem import WordNetLemmatizer\n",
    "from nltk.stem.porter import PorterStemmer"
   ]
  },
  {
   "cell_type": "code",
   "execution_count": 168,
   "metadata": {},
   "outputs": [
    {
     "data": {
      "text/plain": [
       "(5841, 51)"
      ]
     },
     "execution_count": 168,
     "metadata": {},
     "output_type": "execute_result"
    }
   ],
   "source": [
    "#Loading Data\n",
    "df = pd.read_csv(\"D:/DA/Semester_3/Research Project/Dataset/game_data.csv\")\n",
    "df.shape"
   ]
  },
  {
   "cell_type": "code",
   "execution_count": 166,
   "metadata": {},
   "outputs": [],
   "source": [
    "#Initializing variables\n",
    "#count = 0\n",
    "a = 0\n",
    "#creating an empty array\n",
    "arr = []\n",
    "for sentence in df['wiki_tbl']:\n",
    "    #if loop to check if the data is not a string i.e. a null value\n",
    "    if type(sentence) != str:\n",
    "        #Drop the row if it is null\n",
    "        df = df.drop([a],axis=0)\n",
    "        #print(a)\n",
    "        #appending the index which has been dropped to the arr variable\n",
    "        arr.append(a)\n",
    "        a = a + 1\n",
    "        #after dropping the row skip the whole loop\n",
    "        continue\n",
    "#df = df.dropna()"
   ]
  },
  {
   "cell_type": "code",
   "execution_count": 169,
   "metadata": {},
   "outputs": [
    {
     "name": "stdout",
     "output_type": "stream",
     "text": [
      "0    The planet Blobolonia is threatened by an evil...\n",
      "1    Since the original release of the game, A Boy ...\n",
      "2    Ant Island is a colony of ants led by the Quee...\n",
      "3    Gameplay focuses on capturing nodes—castles, t...\n",
      "4    Death Wish is a challenge mode.  It was releas...\n",
      "Name: wiki_tbl, dtype: object\n"
     ]
    }
   ],
   "source": [
    "print(df['wiki_tbl'].head(5))\n",
    "text = df['wiki_tbl']"
   ]
  },
  {
   "cell_type": "code",
   "execution_count": 170,
   "metadata": {},
   "outputs": [
    {
     "data": {
      "text/plain": [
       "0    The planet Blobolonia is threatened by an evil...\n",
       "1    Since the original release of the game, A Boy ...\n",
       "2    Ant Island is a colony of ants led by the Quee...\n",
       "3    Gameplay focuses on capturing nodes—castles, t...\n",
       "4    Death Wish is a challenge mode.  It was releas...\n",
       "Name: wiki_tbl, dtype: object"
      ]
     },
     "execution_count": 170,
     "metadata": {},
     "output_type": "execute_result"
    }
   ],
   "source": [
    "#text = df['game_text'].str.split(\"//\", n=10, expand=True)\n",
    "text.head()"
   ]
  },
  {
   "cell_type": "code",
   "execution_count": 172,
   "metadata": {
    "scrolled": false
   },
   "outputs": [
    {
     "name": "stderr",
     "output_type": "stream",
     "text": [
      "C:\\Users\\Aashish\\Anaconda3\\lib\\site-packages\\ipykernel_launcher.py:3: SettingWithCopyWarning: \n",
      "A value is trying to be set on a copy of a slice from a DataFrame\n",
      "\n",
      "See the caveats in the documentation: http://pandas.pydata.org/pandas-docs/stable/indexing.html#indexing-view-versus-copy\n",
      "  This is separate from the ipykernel package so we can avoid doing imports until\n"
     ]
    }
   ],
   "source": [
    "import re \n",
    "for i in range(len(df['wiki_tbl'])):\n",
    "    if pd.notnull(df['wiki_tbl'][i]) : df['wiki_tbl'][i] = re.sub(\"[\\(\\[].*?[\\)\\]]\", \"\", df['wiki_tbl'][i])"
   ]
  },
  {
   "cell_type": "code",
   "execution_count": 173,
   "metadata": {},
   "outputs": [],
   "source": [
    "def remove_html(text):\n",
    "    soup = BeautifulSoup(text, 'lxml')\n",
    "    html_free = soup.get_text()\n",
    "    return html_free"
   ]
  },
  {
   "cell_type": "code",
   "execution_count": 174,
   "metadata": {},
   "outputs": [],
   "source": [
    "def remove_punctuation(text):\n",
    "    no_punct = \"\".join([c for c in text if c not in string.punctuation])\n",
    "    return no_punct"
   ]
  },
  {
   "cell_type": "code",
   "execution_count": 175,
   "metadata": {},
   "outputs": [],
   "source": [
    "#def remove_punctuation(text):\n",
    "#    if pd.notnull(text) : no_punct = \"\".join([c for c in text if c not in string.punctuation])\n",
    "#        return no_punct\n",
    "#    else:\n",
    "#        return None"
   ]
  },
  {
   "cell_type": "code",
   "execution_count": 176,
   "metadata": {},
   "outputs": [
    {
     "data": {
      "text/plain": [
       "0    The planet Blobolonia is threatened by an evil...\n",
       "1    Since the original release of the game A Boy a...\n",
       "2    Ant Island is a colony of ants led by the Quee...\n",
       "3    Gameplay focuses on capturing nodes—castles to...\n",
       "4    Death Wish is a challenge mode  It was release...\n",
       "Name: wiki_tbl, dtype: object"
      ]
     },
     "execution_count": 176,
     "metadata": {},
     "output_type": "execute_result"
    }
   ],
   "source": [
    "df['wiki_tbl'] = df['wiki_tbl'].apply(lambda x: remove_punctuation(x))\n",
    "df['wiki_tbl'].head()"
   ]
  },
  {
   "cell_type": "code",
   "execution_count": 177,
   "metadata": {},
   "outputs": [],
   "source": [
    "#instantiate tokenizer\n",
    "tokenizer = RegexpTokenizer(r'\\w+')"
   ]
  },
  {
   "cell_type": "code",
   "execution_count": 178,
   "metadata": {},
   "outputs": [
    {
     "data": {
      "text/plain": [
       "0     [the, planet, blobolonia, is, threatened, by, ...\n",
       "1     [since, the, original, release, of, the, game,...\n",
       "2     [ant, island, is, a, colony, of, ants, led, by...\n",
       "3     [gameplay, focuses, on, capturing, nodes, cast...\n",
       "4     [death, wish, is, a, challenge, mode, it, was,...\n",
       "5     [in, the, game, the, player, takes, on, a, rol...\n",
       "6     [the, arts, letters, edition, features, word, ...\n",
       "7     [the, arts, letters, edition, features, word, ...\n",
       "8     [a, new, brain, age, title, for, the, nintendo...\n",
       "9     [in, the, game, the, player, assumes, control,...\n",
       "10    [lost, in, shadow, is, a, 2d, platform, game, ...\n",
       "11    [in, the, year, 2055, time, travel, has, becom...\n",
       "12    [a, vampyre, story, was, created, by, a, numbe...\n",
       "13    [a, way, out, is, an, actionadventure, game, p...\n",
       "14    [the, game, follows, the, players, avatar, who...\n",
       "15    [the, first, iteration, of, the, atrain, serie...\n",
       "16    [the, game, covers, the, plot, of, the, first,...\n",
       "17    [in, an, alternate, reality, a, human, named, ...\n",
       "18    [a, similar, longer, acronym, used, by, austra...\n",
       "19    [the, game, takes, place, in, a, future, setti...\n",
       "Name: wiki_tbl, dtype: object"
      ]
     },
     "execution_count": 178,
     "metadata": {},
     "output_type": "execute_result"
    }
   ],
   "source": [
    "df['wiki_tbl'] = df['wiki_tbl'].apply(lambda x: tokenizer.tokenize(x.lower()))\n",
    "df['wiki_tbl'].head(20)"
   ]
  },
  {
   "cell_type": "code",
   "execution_count": 179,
   "metadata": {},
   "outputs": [],
   "source": [
    "def remove_stopwords(text):\n",
    "    words = [w for w in text if w not in stopwords.words('english')]\n",
    "    return words"
   ]
  },
  {
   "cell_type": "code",
   "execution_count": 180,
   "metadata": {},
   "outputs": [
    {
     "data": {
      "text/plain": [
       "0    [planet, blobolonia, threatened, evil, emperor...\n",
       "1    [since, original, release, game, boy, blob, tr...\n",
       "2    [ant, island, colony, ants, led, queen, daught...\n",
       "3    [gameplay, focuses, capturing, nodes, castles,...\n",
       "4    [death, wish, challenge, mode, released, septe...\n",
       "5    [game, player, takes, role, giant, land, kefli...\n",
       "6    [arts, letters, edition, features, word, memor...\n",
       "7    [arts, letters, edition, features, word, memor...\n",
       "8    [new, brain, age, title, nintendo, switch, tit...\n",
       "9    [game, player, assumes, control, amicia, de, r...\n",
       "Name: wiki_tbl, dtype: object"
      ]
     },
     "execution_count": 180,
     "metadata": {},
     "output_type": "execute_result"
    }
   ],
   "source": [
    "df['wiki_tbl'] = df['wiki_tbl'].apply(lambda x: remove_stopwords(x))\n",
    "df['wiki_tbl'].head(10)"
   ]
  },
  {
   "cell_type": "code",
   "execution_count": 184,
   "metadata": {},
   "outputs": [],
   "source": [
    "#instantiate stemmer\n",
    "stemmer = PorterStemmer()"
   ]
  },
  {
   "cell_type": "code",
   "execution_count": 185,
   "metadata": {},
   "outputs": [],
   "source": [
    "def word_stemmer(text):\n",
    "    stem_text = \" \".join([stemmer.stem(i) for i in text])\n",
    "    return stem_text"
   ]
  },
  {
   "cell_type": "code",
   "execution_count": 186,
   "metadata": {},
   "outputs": [],
   "source": [
    "df['wiki_tbl'] = df['wiki_tbl'].apply(lambda x: word_stemmer(x))"
   ]
  },
  {
   "cell_type": "code",
   "execution_count": 187,
   "metadata": {},
   "outputs": [
    {
     "data": {
      "text/plain": [
       "0       planet blobolonia threaten evil emperor titula...\n",
       "1       sinc origin releas game boy blob troubl blobol...\n",
       "2       ant island coloni ant led queen daughter princ...\n",
       "3       gameplay focus captur node castl town goldmin ...\n",
       "4       death wish challeng mode releas septemb 4 2018...\n",
       "5       game player take role giant land kefl kefl sma...\n",
       "6       art letter edit featur word memori puzzl one n...\n",
       "7       art letter edit featur word memori puzzl one n...\n",
       "8       new brain age titl nintendo switch titl kitaer...\n",
       "9       game player assum control amicia de rune third...\n",
       "10      lost shadow 2d platform game player must navig...\n",
       "11      year 2055 time travel becom practic realiti co...\n",
       "12      vampyr stori creat number former lucasart adve...\n",
       "13      way actionadventur game play thirdperson persp...\n",
       "14      game follow player avatar giant world kefl pre...\n",
       "15      first iter atrain seri releas decemb 1985 fm7 ...\n",
       "16      game cover plot first 50 chapter attack titan ...\n",
       "17      altern realiti human name ymir fritz becam hum...\n",
       "18      similar longer acronym use australian law enfo...\n",
       "19      game take place futur set earth contamin pollu...\n",
       "20      anno 1602 aim mix simul strategi game give pla...\n",
       "21      game includ licenc player includ rafael nadal ...\n",
       "22      ark surviv evolv actionadventur surviv game se...\n",
       "23      player may choos 12 differ type allterrain veh...\n",
       "24      atv offroad furi 4 see introduct new vehicl mx...\n",
       "25      atv offroad furi pro offer vehicl atv offroad ...\n",
       "26      four gameplay mode championship singl race tim...\n",
       "27      abomin take place 1999 unit state almost wipe ...\n",
       "28      sloclap parisian indi game studio compos forme...\n",
       "29      citi eridu enki templ known e2abzu locat edg s...\n",
       "                              ...                        \n",
       "5811    zarlor mercenari vertic scroll shoot em player...\n",
       "5812    1982 1985 zaxxon port appl ii atari 8bit famil...\n",
       "5813    zeit² tradit sidescrol 2d shoot em game uniqu ...\n",
       "5814    zelda ii adventur link action roleplay game be...\n",
       "5815    time releas game featur four tabl seven tabl w...\n",
       "5816    uk nintendo magazin onm prais ds version game ...\n",
       "5817    game begin first game protagonist ghat meet an...\n",
       "5818    virtu last reward featur nine main charact kid...\n",
       "5819    near futur asian conglomer known igem develop ...\n",
       "5820    zero time dilemma set event nine hour nine per...\n",
       "5821    zeu set mythic version ancient greec featur ma...\n",
       "5822    zoda reveng run nine chapter although first st...\n",
       "5823    releas 9 septemb 2008 develop atlu websit http...\n",
       "5824    zombiu 17thbestsel game uk first week releas b...\n",
       "5825    player control one four hero defend zombi item...\n",
       "5826    topsecret govern plan util dead militari purpo...\n",
       "5827    zombi tycoon plot told via voiceact anim cutsc...\n",
       "5828    zombi ate neighbor origin develop lucasart pub...\n",
       "5829    zone ender seri set late 22nd centuri mankind ...\n",
       "5830    zone ender seri set late 22nd centuri mankind ...\n",
       "5831    stori set within zone ender univers 2173 human...\n",
       "5832    zoo tycoon zoo simul video game put player con...\n",
       "5833    zoo tycoon 2 ds player edit build zoo main mod...\n",
       "5834    african adventur receiv gener neg review due n...\n",
       "5835    graphic gameplay somewhat similar first zoo ty...\n",
       "5836    zoombi animal de la muert describ crazi overth...\n",
       "5837    along dracula unleash zoop one origin properti...\n",
       "5838    zubo set world zubalon inhabit race call zubo ...\n",
       "5839    45 preset class well customiz workout player l...\n",
       "5840    player control chariot drawn robot anim around...\n",
       "Name: wiki_tbl, Length: 5841, dtype: object"
      ]
     },
     "execution_count": 187,
     "metadata": {},
     "output_type": "execute_result"
    }
   ],
   "source": [
    "df['wiki_tbl']"
   ]
  },
  {
   "cell_type": "code",
   "execution_count": 188,
   "metadata": {},
   "outputs": [
    {
     "data": {
      "text/plain": [
       "(5841, 51)"
      ]
     },
     "execution_count": 188,
     "metadata": {},
     "output_type": "execute_result"
    }
   ],
   "source": [
    "df.shape"
   ]
  },
  {
   "cell_type": "code",
   "execution_count": 189,
   "metadata": {},
   "outputs": [],
   "source": [
    "df.to_csv(\"D:/DA/Semester_3/Research Project/Dataset/wiki_text_nlp.csv\")"
   ]
  }
 ],
 "metadata": {
  "kernelspec": {
   "display_name": "Python 3",
   "language": "python",
   "name": "python3"
  },
  "language_info": {
   "codemirror_mode": {
    "name": "ipython",
    "version": 3
   },
   "file_extension": ".py",
   "mimetype": "text/x-python",
   "name": "python",
   "nbconvert_exporter": "python",
   "pygments_lexer": "ipython3",
   "version": "3.7.3"
  }
 },
 "nbformat": 4,
 "nbformat_minor": 2
}
